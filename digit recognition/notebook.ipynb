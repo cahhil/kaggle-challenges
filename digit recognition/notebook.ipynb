{
 "cells": [
  {
   "cell_type": "code",
   "execution_count": 197,
   "id": "1e58274b",
   "metadata": {},
   "outputs": [],
   "source": [
    "#data storing and utils\n",
    "import pandas as pd\n",
    "import numpy as np\n",
    "\n",
    "#plotting libraries\n",
    "import matplotlib.pyplot as plt\n",
    "import seaborn as sns\n",
    "\n",
    "#machine learning\n",
    "import tensorflow \n",
    "import keras\n",
    "from sklearn.model_selection import train_test_split\n",
    "from sklearn.metrics import confusion_matrix\n",
    "from keras.models import Sequential\n",
    "from keras.layers import Conv2D, Lambda, MaxPooling2D, Dense, Dropout, Flatten, MaxPool2D, BatchNormalization # convolution layers\n",
    "from tensorflow.keras.layers import BatchNormalization\n",
    "from keras.utils.np_utils import to_categorical \n",
    "from keras.preprocessing import image"
   ]
  },
  {
   "cell_type": "markdown",
   "id": "26ff5446",
   "metadata": {},
   "source": [
    "# Data loading and first look"
   ]
  },
  {
   "cell_type": "code",
   "execution_count": 198,
   "id": "eee9a837",
   "metadata": {},
   "outputs": [],
   "source": [
    "train_data = pd.read_csv('train.csv')\n",
    "test_data = pd.read_csv('test.csv')\n",
    "all_data = pd.concat([train_data, test_data], ignore_index=True, sort=False)"
   ]
  },
  {
   "cell_type": "code",
   "execution_count": 199,
   "id": "b7d3955b",
   "metadata": {},
   "outputs": [
    {
     "data": {
      "text/plain": [
       "(42000, 785)"
      ]
     },
     "execution_count": 199,
     "metadata": {},
     "output_type": "execute_result"
    }
   ],
   "source": [
    "train_data.shape"
   ]
  },
  {
   "cell_type": "code",
   "execution_count": 200,
   "id": "91484f6f",
   "metadata": {},
   "outputs": [
    {
     "data": {
      "text/html": [
       "<div>\n",
       "<style scoped>\n",
       "    .dataframe tbody tr th:only-of-type {\n",
       "        vertical-align: middle;\n",
       "    }\n",
       "\n",
       "    .dataframe tbody tr th {\n",
       "        vertical-align: top;\n",
       "    }\n",
       "\n",
       "    .dataframe thead th {\n",
       "        text-align: right;\n",
       "    }\n",
       "</style>\n",
       "<table border=\"1\" class=\"dataframe\">\n",
       "  <thead>\n",
       "    <tr style=\"text-align: right;\">\n",
       "      <th></th>\n",
       "      <th>label</th>\n",
       "      <th>pixel0</th>\n",
       "      <th>pixel1</th>\n",
       "      <th>pixel2</th>\n",
       "      <th>pixel3</th>\n",
       "      <th>pixel4</th>\n",
       "      <th>pixel5</th>\n",
       "      <th>pixel6</th>\n",
       "      <th>pixel7</th>\n",
       "      <th>pixel8</th>\n",
       "      <th>...</th>\n",
       "      <th>pixel774</th>\n",
       "      <th>pixel775</th>\n",
       "      <th>pixel776</th>\n",
       "      <th>pixel777</th>\n",
       "      <th>pixel778</th>\n",
       "      <th>pixel779</th>\n",
       "      <th>pixel780</th>\n",
       "      <th>pixel781</th>\n",
       "      <th>pixel782</th>\n",
       "      <th>pixel783</th>\n",
       "    </tr>\n",
       "  </thead>\n",
       "  <tbody>\n",
       "    <tr>\n",
       "      <th>0</th>\n",
       "      <td>1</td>\n",
       "      <td>0</td>\n",
       "      <td>0</td>\n",
       "      <td>0</td>\n",
       "      <td>0</td>\n",
       "      <td>0</td>\n",
       "      <td>0</td>\n",
       "      <td>0</td>\n",
       "      <td>0</td>\n",
       "      <td>0</td>\n",
       "      <td>...</td>\n",
       "      <td>0</td>\n",
       "      <td>0</td>\n",
       "      <td>0</td>\n",
       "      <td>0</td>\n",
       "      <td>0</td>\n",
       "      <td>0</td>\n",
       "      <td>0</td>\n",
       "      <td>0</td>\n",
       "      <td>0</td>\n",
       "      <td>0</td>\n",
       "    </tr>\n",
       "    <tr>\n",
       "      <th>1</th>\n",
       "      <td>0</td>\n",
       "      <td>0</td>\n",
       "      <td>0</td>\n",
       "      <td>0</td>\n",
       "      <td>0</td>\n",
       "      <td>0</td>\n",
       "      <td>0</td>\n",
       "      <td>0</td>\n",
       "      <td>0</td>\n",
       "      <td>0</td>\n",
       "      <td>...</td>\n",
       "      <td>0</td>\n",
       "      <td>0</td>\n",
       "      <td>0</td>\n",
       "      <td>0</td>\n",
       "      <td>0</td>\n",
       "      <td>0</td>\n",
       "      <td>0</td>\n",
       "      <td>0</td>\n",
       "      <td>0</td>\n",
       "      <td>0</td>\n",
       "    </tr>\n",
       "    <tr>\n",
       "      <th>2</th>\n",
       "      <td>1</td>\n",
       "      <td>0</td>\n",
       "      <td>0</td>\n",
       "      <td>0</td>\n",
       "      <td>0</td>\n",
       "      <td>0</td>\n",
       "      <td>0</td>\n",
       "      <td>0</td>\n",
       "      <td>0</td>\n",
       "      <td>0</td>\n",
       "      <td>...</td>\n",
       "      <td>0</td>\n",
       "      <td>0</td>\n",
       "      <td>0</td>\n",
       "      <td>0</td>\n",
       "      <td>0</td>\n",
       "      <td>0</td>\n",
       "      <td>0</td>\n",
       "      <td>0</td>\n",
       "      <td>0</td>\n",
       "      <td>0</td>\n",
       "    </tr>\n",
       "    <tr>\n",
       "      <th>3</th>\n",
       "      <td>4</td>\n",
       "      <td>0</td>\n",
       "      <td>0</td>\n",
       "      <td>0</td>\n",
       "      <td>0</td>\n",
       "      <td>0</td>\n",
       "      <td>0</td>\n",
       "      <td>0</td>\n",
       "      <td>0</td>\n",
       "      <td>0</td>\n",
       "      <td>...</td>\n",
       "      <td>0</td>\n",
       "      <td>0</td>\n",
       "      <td>0</td>\n",
       "      <td>0</td>\n",
       "      <td>0</td>\n",
       "      <td>0</td>\n",
       "      <td>0</td>\n",
       "      <td>0</td>\n",
       "      <td>0</td>\n",
       "      <td>0</td>\n",
       "    </tr>\n",
       "    <tr>\n",
       "      <th>4</th>\n",
       "      <td>0</td>\n",
       "      <td>0</td>\n",
       "      <td>0</td>\n",
       "      <td>0</td>\n",
       "      <td>0</td>\n",
       "      <td>0</td>\n",
       "      <td>0</td>\n",
       "      <td>0</td>\n",
       "      <td>0</td>\n",
       "      <td>0</td>\n",
       "      <td>...</td>\n",
       "      <td>0</td>\n",
       "      <td>0</td>\n",
       "      <td>0</td>\n",
       "      <td>0</td>\n",
       "      <td>0</td>\n",
       "      <td>0</td>\n",
       "      <td>0</td>\n",
       "      <td>0</td>\n",
       "      <td>0</td>\n",
       "      <td>0</td>\n",
       "    </tr>\n",
       "  </tbody>\n",
       "</table>\n",
       "<p>5 rows × 785 columns</p>\n",
       "</div>"
      ],
      "text/plain": [
       "   label  pixel0  pixel1  pixel2  pixel3  pixel4  pixel5  pixel6  pixel7  \\\n",
       "0      1       0       0       0       0       0       0       0       0   \n",
       "1      0       0       0       0       0       0       0       0       0   \n",
       "2      1       0       0       0       0       0       0       0       0   \n",
       "3      4       0       0       0       0       0       0       0       0   \n",
       "4      0       0       0       0       0       0       0       0       0   \n",
       "\n",
       "   pixel8  ...  pixel774  pixel775  pixel776  pixel777  pixel778  pixel779  \\\n",
       "0       0  ...         0         0         0         0         0         0   \n",
       "1       0  ...         0         0         0         0         0         0   \n",
       "2       0  ...         0         0         0         0         0         0   \n",
       "3       0  ...         0         0         0         0         0         0   \n",
       "4       0  ...         0         0         0         0         0         0   \n",
       "\n",
       "   pixel780  pixel781  pixel782  pixel783  \n",
       "0         0         0         0         0  \n",
       "1         0         0         0         0  \n",
       "2         0         0         0         0  \n",
       "3         0         0         0         0  \n",
       "4         0         0         0         0  \n",
       "\n",
       "[5 rows x 785 columns]"
      ]
     },
     "execution_count": 200,
     "metadata": {},
     "output_type": "execute_result"
    }
   ],
   "source": [
    "train_data.head()"
   ]
  },
  {
   "cell_type": "markdown",
   "id": "41b14307",
   "metadata": {},
   "source": [
    "#### As shown from the dataframe shape and the sample above, there are 42000 instances of digits and each one of them has 785 pixel values."
   ]
  },
  {
   "cell_type": "code",
   "execution_count": 201,
   "id": "b695dc84",
   "metadata": {},
   "outputs": [
    {
     "name": "stdout",
     "output_type": "stream",
     "text": [
      "<class 'pandas.core.frame.DataFrame'>\n",
      "RangeIndex: 42000 entries, 0 to 41999\n",
      "Columns: 785 entries, label to pixel783\n",
      "dtypes: int64(785)\n",
      "memory usage: 251.5 MB\n"
     ]
    }
   ],
   "source": [
    "train_data.info()"
   ]
  },
  {
   "cell_type": "markdown",
   "id": "a6652fd0",
   "metadata": {},
   "source": [
    "#### As it appears there's no null value in the dataframe."
   ]
  },
  {
   "cell_type": "code",
   "execution_count": 202,
   "id": "ba153acd",
   "metadata": {},
   "outputs": [],
   "source": [
    "# digits labels, are the target variable  \n",
    "y_train = train_data[\"label\"]\n",
    "# independent variables \n",
    "x_train = train_data.drop(labels = [\"label\"],axis = 1) "
   ]
  },
  {
   "cell_type": "code",
   "execution_count": 203,
   "id": "aaf5b0e1",
   "metadata": {},
   "outputs": [
    {
     "name": "stderr",
     "output_type": "stream",
     "text": [
      "C:\\Users\\Carl\\AppData\\Roaming\\Python\\Python310\\site-packages\\seaborn\\_decorators.py:36: FutureWarning: Pass the following variable as a keyword arg: x. From version 0.12, the only valid positional argument will be `data`, and passing other arguments without an explicit keyword will result in an error or misinterpretation.\n",
      "  warnings.warn(\n"
     ]
    },
    {
     "data": {
      "text/plain": [
       "Text(0.5, 1.0, \"Occurrences of digits' classes\")"
      ]
     },
     "execution_count": 203,
     "metadata": {},
     "output_type": "execute_result"
    },
    {
     "data": {
      "image/png": "[encoded data removed]",
      "text/plain": [
       "<Figure size 800x400 with 1 Axes>"
      ]
     },
     "metadata": {},
     "output_type": "display_data"
    }
   ],
   "source": [
    "plt.figure(figsize=(8,4))\n",
    "g = sns.countplot(y_train)\n",
    "plt.title(\"Occurrences of digits' classes\")"
   ]
  },
  {
   "cell_type": "markdown",
   "id": "20998ec8",
   "metadata": {},
   "source": [
    "#### The distribution of the digits's labels seems to be close to the uniform one. "
   ]
  },
  {
   "cell_type": "markdown",
   "id": "284f7baf",
   "metadata": {},
   "source": [
    "# Data cleaning"
   ]
  },
  {
   "cell_type": "markdown",
   "id": "2affa6e9",
   "metadata": {},
   "source": [
    "#### The very first step is to normilize the data and take it from the [0, 255] range to the [0, 1]"
   ]
  },
  {
   "cell_type": "code",
   "execution_count": 204,
   "id": "059da3a4",
   "metadata": {},
   "outputs": [],
   "source": [
    "x_train = x_train / 255.0\n",
    "test_data = test_data / 255.0"
   ]
  },
  {
   "cell_type": "markdown",
   "id": "85d4a67c",
   "metadata": {},
   "source": [
    "#### We're now visualizing some of the images."
   ]
  },
  {
   "cell_type": "code",
   "execution_count": 205,
   "id": "38dd1a24",
   "metadata": {},
   "outputs": [],
   "source": [
    "# Reshape image in 3 dimensions (height = 28px, width = 28px , canal = 1)\n",
    "# canal = 1 => For gray scale\n",
    "x_train = x_train.values.reshape(-1,28,28,1)\n",
    "test_data = test_data.values.reshape(-1,28,28,1)"
   ]
  },
  {
   "cell_type": "code",
   "execution_count": 206,
   "id": "836a5420",
   "metadata": {},
   "outputs": [
    {
     "data": {
      "image/png": "[encoded data removed]",
      "text/plain": [
       "<Figure size 2000x1000 with 4 Axes>"
      ]
     },
     "metadata": {},
     "output_type": "display_data"
    }
   ],
   "source": [
    "fig, axis = plt.subplots(1, 4, figsize=(20, 10))\n",
    "# plot some images\n",
    "for i, ax in enumerate(axis.flat):\n",
    "     ax.imshow(x_train[i], cmap='binary')\n",
    "plt.show()"
   ]
  },
  {
   "cell_type": "markdown",
   "id": "c8ed9353",
   "metadata": {},
   "source": [
    "#### Converting the target variables to categorical values "
   ]
  },
  {
   "cell_type": "code",
   "execution_count": 207,
   "id": "eeb04582",
   "metadata": {},
   "outputs": [],
   "source": [
    "y_train = to_categorical(y_train, num_classes = 10)"
   ]
  },
  {
   "cell_type": "code",
   "execution_count": 208,
   "id": "5b848cd5",
   "metadata": {},
   "outputs": [],
   "source": [
    "x_train, x_val, y_train, y_val = train_test_split(x_train, y_train, test_size = 0.33, random_state=42)"
   ]
  },
  {
   "cell_type": "markdown",
   "id": "041c9d36",
   "metadata": {},
   "source": [
    "# The First Model"
   ]
  },
  {
   "cell_type": "markdown",
   "id": "d7163555",
   "metadata": {},
   "source": [
    "#### In keras there are three API's to build models such as Sequential API, Functional API, Model Subclassing API. "
   ]
  },
  {
   "cell_type": "markdown",
   "id": "a1fb503d",
   "metadata": {},
   "source": [
    "#### With keras it is possible to build a neural network using the Sequential API, what this does is give us the possibility of stacking layers one on top of the other. The sequential model is more appropriate when each layer has one input tensor and an output tensor. HereI'm gonna design two different networks, one linear network and a convolutional one. "
   ]
  },
  {
   "cell_type": "markdown",
   "id": "f06d7296",
   "metadata": {},
   "source": [
    "#### The one above is a linear model. The first layer, Lambda, applies simple arithmatic to the input, is best suited for quick experimentation adn simple operations. Here we're passing a standardizing function to it, to modify the output of the previous layer. The Flatten layer instead performs a dimensionality reduction aka flattens the output of the previous layer. Finally a Dense layer, or a fully connected layer, is a it is generally used in the last stages of the neural network."
   ]
  },
  {
   "cell_type": "code",
   "execution_count": 231,
   "id": "73cbcdc0",
   "metadata": {},
   "outputs": [],
   "source": [
    "def standardize(x): \n",
    "    \n",
    "    mean_px = x_train.mean().astype(np.float32)\n",
    "    std_px = x_train.std().astype(np.float32)\n",
    "    \n",
    "    return (x-mean_px)/std_px"
   ]
  },
  {
   "cell_type": "code",
   "execution_count": 232,
   "id": "002f098b",
   "metadata": {},
   "outputs": [],
   "source": [
    "model= Sequential()\n",
    "model.add(Lambda(standardize,input_shape=(28,28,1)))\n",
    "model.add(Flatten())\n",
    "model.add(Dense(10, activation='softmax'))"
   ]
  },
  {
   "cell_type": "markdown",
   "id": "25a21f60",
   "metadata": {},
   "source": [
    "#### After we want to add a loss function, an optimization algorithm and an accurecy metric. These are needed to compile the model , this is the last step in model creation, after compiling we can move to the training phase. The loss function is used to find error or deviation in the learning process, the optimization function is to improve on the current state and metrics is used to evaluate the performance of your model. It is similar to loss function, but not used in training process. "
   ]
  },
  {
   "cell_type": "code",
   "execution_count": 233,
   "id": "9796a83a",
   "metadata": {},
   "outputs": [],
   "source": [
    "optimizer = keras.optimizers.Adam(learning_rate = 0.001, beta_1 = 0.9, beta_2 = 0.999)\n",
    "\n",
    "model.compile(optimizer=optimizer,\n",
    "                       loss='categorical_crossentropy', # since labels are more than 2 and not one-hot-encoded\n",
    "                       metrics=['accuracy'])"
   ]
  },
  {
   "cell_type": "markdown",
   "id": "7c76eee2",
   "metadata": {},
   "source": [
    "#### Sparse-categorical-crossentropy: Training a neural network involves passing data forward, through the model, and comparing predictions with ground truth labels. This comparison is done by a loss function such as this one. It is most used in multiclass classification problems, requires labels to be hot encoded (call to_categorical).\n",
    "#### Accuracy: Calculates how often predictions equal labels.\n",
    "#### Adam: is an extension to stochastic gradient descent, each parameter has a different learning rate, the learning rates are adapted during training."
   ]
  },
  {
   "cell_type": "markdown",
   "id": "1f6dcd3e",
   "metadata": {},
   "source": [
    "#### ImageDataGenerator class provides different functions to loads the image dataset in memory and generating batches of augmented data. One of those methods is flow(), it infact loads the image dataset in memory and generates batches of augmented data given the specs provided in the ImageDataGenerator object."
   ]
  },
  {
   "cell_type": "code",
   "execution_count": 234,
   "id": "ad79c28e",
   "metadata": {},
   "outputs": [],
   "source": [
    "# data augmentation\n",
    "gen = image.ImageDataGenerator(\n",
    "        featurewise_center=False,  # set input mean to 0 over the dataset\n",
    "        samplewise_center=False,  # set each sample mean to 0\n",
    "        featurewise_std_normalization=False,  # divide inputs by std of the dataset\n",
    "        samplewise_std_normalization=False,  # divide each input by its std\n",
    "        zca_whitening=False,  # dimesion reduction\n",
    "        rotation_range=20,  # randomly rotate images in the range 5 degrees\n",
    "        zoom_range = 0.15, # Randomly zoom image 10%\n",
    "        width_shift_range=0.2,  # randomly shift images horizontally 10%\n",
    "        height_shift_range=0.2,  # randomly shift images vertically 10%\n",
    "        horizontal_flip=True,  # randomly flip images\n",
    "        vertical_flip=True)  # randomly flip images"
   ]
  },
  {
   "cell_type": "markdown",
   "id": "2cc31242",
   "metadata": {},
   "source": [
    "#### Epoch: one forward and one backward pass of a whole dataset for all training examples.\n",
    "#### Steps per epoch: total number of steps (batches of samples) to yield from generator before declaring one epoch finished and starting the next epoch. It should typically be equal to ceil(num_samples / batch_size).\n",
    "#### Batch size: is a hyperparameter that controls the number of training samples to work through before the model’s internal parameters are updated. "
   ]
  },
  {
   "cell_type": "code",
   "execution_count": 235,
   "id": "efbadb42",
   "metadata": {},
   "outputs": [],
   "source": [
    "epochs = 10  # for better result increase the epochs\n",
    "batch_size = 64"
   ]
  },
  {
   "cell_type": "code",
   "execution_count": 236,
   "id": "9937be7a",
   "metadata": {},
   "outputs": [],
   "source": [
    "batches = gen.flow(x_train, y_train, batch_size=batch_size)\n",
    "val_batches=gen.flow(x_val, y_val, batch_size=batch_size)"
   ]
  },
  {
   "cell_type": "code",
   "execution_count": 237,
   "id": "5d2a851f",
   "metadata": {},
   "outputs": [
    {
     "name": "stdout",
     "output_type": "stream",
     "text": [
      "Epoch 1/10\n"
     ]
    },
    {
     "name": "stderr",
     "output_type": "stream",
     "text": [
      "C:\\Windows\\Temp\\ipykernel_44112\\1252811711.py:1: UserWarning: `Model.fit_generator` is deprecated and will be removed in a future version. Please use `Model.fit`, which supports generators.\n",
      "  history=model.fit_generator(batches,\n"
     ]
    },
    {
     "name": "stdout",
     "output_type": "stream",
     "text": [
      "440/440 [==============================] - 11s 25ms/step - loss: 2.1562 - accuracy: 0.2380 - val_loss: 2.0873 - val_accuracy: 0.2511\n",
      "Epoch 2/10\n",
      "440/440 [==============================] - 11s 24ms/step - loss: 2.0795 - accuracy: 0.2522 - val_loss: 2.0649 - val_accuracy: 0.2597\n",
      "Epoch 3/10\n",
      "440/440 [==============================] - 11s 24ms/step - loss: 2.0638 - accuracy: 0.2612 - val_loss: 2.0697 - val_accuracy: 0.2555\n",
      "Epoch 4/10\n",
      "440/440 [==============================] - 10s 24ms/step - loss: 2.0629 - accuracy: 0.2637 - val_loss: 2.0465 - val_accuracy: 0.2584\n",
      "Epoch 5/10\n",
      "440/440 [==============================] - 11s 24ms/step - loss: 2.0552 - accuracy: 0.2643 - val_loss: 2.0523 - val_accuracy: 0.2705\n",
      "Epoch 6/10\n",
      "440/440 [==============================] - 10s 24ms/step - loss: 2.0521 - accuracy: 0.2643 - val_loss: 2.0720 - val_accuracy: 0.2545\n",
      "Epoch 7/10\n",
      "440/440 [==============================] - 10s 24ms/step - loss: 2.0528 - accuracy: 0.2673 - val_loss: 2.0646 - val_accuracy: 0.2564\n",
      "Epoch 8/10\n",
      "440/440 [==============================] - 11s 24ms/step - loss: 2.0541 - accuracy: 0.2659 - val_loss: 2.0618 - val_accuracy: 0.2584\n",
      "Epoch 9/10\n",
      "440/440 [==============================] - 10s 24ms/step - loss: 2.0510 - accuracy: 0.2684 - val_loss: 2.0573 - val_accuracy: 0.2629\n",
      "Epoch 10/10\n",
      "440/440 [==============================] - 10s 24ms/step - loss: 2.0589 - accuracy: 0.2600 - val_loss: 2.0541 - val_accuracy: 0.2565\n"
     ]
    }
   ],
   "source": [
    "history=model.fit_generator(batches,\n",
    "                            epochs = epochs,\n",
    "                            validation_data = val_batches,\n",
    "                            steps_per_epoch = np.ceil(x_train.shape[0] / batch_size))"
   ]
  },
  {
   "cell_type": "markdown",
   "id": "34a210b3",
   "metadata": {},
   "source": [
    "# Convolutional neural network"
   ]
  },
  {
   "attachments": {
    "gec2.jpg": {
     "image/jpeg": "[encoded data removed]"
    }
   },
   "cell_type": "markdown",
   "id": "f0ea4bad",
   "metadata": {},
   "source": [
    "![gec2.jpg](attachment:gec2.jpg)"
   ]
  },
  {
   "cell_type": "markdown",
   "id": "bd4c55ee",
   "metadata": {},
   "source": [
    "#### Conv2D: 2D convolution layer (spatial convolution over images). This layer creates a convolution kernel that is convolved with the layer input to produce a tensor of outputs. A kernel is a convolution matrix or masks used for blurring, embossing, edge detection etc...\n",
    "\n",
    "#### MaxPool2D: Max pooling operation for 2D spatial data. Downsamples the input along its spatial dimensions (height and width) by taking the maximum value over an input window (of size defined by pool_size) for each channel of the input. \n",
    "\n",
    "#### Dropout: randomly sets input units to 0 with a frequency of rate at each step during training time, which helps prevent overfitting.\n",
    "\n",
    "#### BatchNormalization: Layer that normalizes its inputs. Batch normalization applies a transformation that maintains the mean output close to 0 and the output standard deviation close to 1. This has the effect of stabilizing the learning process and reducing the number of training epochs"
   ]
  },
  {
   "cell_type": "code",
   "execution_count": 244,
   "id": "f34760d1",
   "metadata": {},
   "outputs": [],
   "source": [
    "model2 = Sequential()\n",
    "\n",
    "#model2.add(Lambda(standardize, input_shape=(28,28,1)))\n",
    "\n",
    "#convolutional section\n",
    "model2.add(Conv2D(filters = 16, kernel_size = (5,5),padding = 'Same', \n",
    "                 activation ='relu', input_shape = (28,28,1)))\n",
    "model2.add(MaxPool2D(pool_size=(2,2), strides=(2,2)))\n",
    "model2.add(Dropout(0.25))\n",
    "\n",
    "model2.add(Conv2D(filters = 32, kernel_size = (5,5),padding = 'Same', \n",
    "                 activation ='relu', input_shape = (28,28,1)))\n",
    "model2.add(MaxPool2D(pool_size=(2,2), strides=(2,2)))\n",
    "model2.add(BatchNormalization(axis=1))\n",
    "model2.add(Dropout(0.25))\n",
    "\n",
    "model2.add(Conv2D(filters = 64, kernel_size = (3,3),padding = 'Same', \n",
    "                 activation ='relu',  input_shape = (28,28,1)))\n",
    "model2.add(MaxPool2D(pool_size=(2,2), strides=(2,2)))\n",
    "model2.add(BatchNormalization(axis=1))\n",
    "model2.add(Dropout(0.25))\n",
    "\n",
    "# fully connected\n",
    "model2.add(Flatten())\n",
    "model2.add(BatchNormalization(axis=1))\n",
    "model.add(Dense(512, activation='relu'))\n",
    "model.add(Dropout(0.25))\n",
    "model2.add(Dense(256, activation = \"relu\"))\n",
    "model2.add(Dropout(0.5))\n",
    "model2.add(Dense(10, activation = \"softmax\"))"
   ]
  },
  {
   "cell_type": "code",
   "execution_count": 245,
   "id": "84564de7",
   "metadata": {},
   "outputs": [],
   "source": [
    "model2.compile(optimizer=optimizer,\n",
    "                       loss='categorical_crossentropy', # since labels are more than 2 and not one-hot-encoded\n",
    "                       metrics=['accuracy'])"
   ]
  },
  {
   "cell_type": "code",
   "execution_count": 246,
   "id": "5d49925c",
   "metadata": {},
   "outputs": [
    {
     "name": "stdout",
     "output_type": "stream",
     "text": [
      "Epoch 1/10\n"
     ]
    },
    {
     "name": "stderr",
     "output_type": "stream",
     "text": [
      "C:\\Windows\\Temp\\ipykernel_44112\\1494819742.py:1: UserWarning: `Model.fit_generator` is deprecated and will be removed in a future version. Please use `Model.fit`, which supports generators.\n",
      "  history=model2.fit_generator(batches,\n"
     ]
    },
    {
     "name": "stdout",
     "output_type": "stream",
     "text": [
      "440/440 [==============================] - 21s 45ms/step - loss: 1.7980 - accuracy: 0.3458 - val_loss: 4.7844 - val_accuracy: 0.1522\n",
      "Epoch 2/10\n",
      "440/440 [==============================] - 19s 44ms/step - loss: 1.1847 - accuracy: 0.5796 - val_loss: 0.8773 - val_accuracy: 0.6965\n",
      "Epoch 3/10\n",
      "440/440 [==============================] - 19s 44ms/step - loss: 0.9451 - accuracy: 0.6747 - val_loss: 0.8366 - val_accuracy: 0.7298\n",
      "Epoch 4/10\n",
      "440/440 [==============================] - 20s 45ms/step - loss: 0.7945 - accuracy: 0.7354 - val_loss: 0.4881 - val_accuracy: 0.8369\n",
      "Epoch 5/10\n",
      "440/440 [==============================] - 19s 44ms/step - loss: 0.6993 - accuracy: 0.7717 - val_loss: 0.4888 - val_accuracy: 0.8409\n",
      "Epoch 6/10\n",
      "440/440 [==============================] - 19s 44ms/step - loss: 0.6285 - accuracy: 0.7930 - val_loss: 0.4604 - val_accuracy: 0.8478\n",
      "Epoch 7/10\n",
      "440/440 [==============================] - 19s 43ms/step - loss: 0.5837 - accuracy: 0.8101 - val_loss: 0.3661 - val_accuracy: 0.8812\n",
      "Epoch 8/10\n",
      "440/440 [==============================] - 19s 44ms/step - loss: 0.5546 - accuracy: 0.8201 - val_loss: 0.3759 - val_accuracy: 0.8745\n",
      "Epoch 9/10\n",
      "440/440 [==============================] - 19s 44ms/step - loss: 0.5204 - accuracy: 0.8323 - val_loss: 0.3529 - val_accuracy: 0.8891\n",
      "Epoch 10/10\n",
      "440/440 [==============================] - 19s 44ms/step - loss: 0.4968 - accuracy: 0.8380 - val_loss: 0.3217 - val_accuracy: 0.8973\n"
     ]
    }
   ],
   "source": [
    "history=model2.fit_generator(batches,\n",
    "                            epochs = epochs,\n",
    "                            validation_data = val_batches,\n",
    "                            steps_per_epoch = np.ceil(x_train.shape[0] / batch_size))"
   ]
  }
 ],
 "metadata": {
  "kernelspec": {
   "display_name": "Python 3 (ipykernel)",
   "language": "python",
   "name": "python3"
  },
  "language_info": {
   "codemirror_mode": {
    "name": "ipython",
    "version": 3
   },
   "file_extension": ".py",
   "mimetype": "text/x-python",
   "name": "python",
   "nbconvert_exporter": "python",
   "pygments_lexer": "ipython3",
   "version": "3.10.2"
  }
 },
 "nbformat": 4,
 "nbformat_minor": 5
}
